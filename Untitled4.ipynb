{
  "nbformat": 4,
  "nbformat_minor": 0,
  "metadata": {
    "colab": {
      "name": "Untitled4.ipynb",
      "provenance": []
    },
    "kernelspec": {
      "name": "python3",
      "display_name": "Python 3"
    },
    "language_info": {
      "name": "python"
    }
  },
  "cells": [
    {
      "cell_type": "code",
      "metadata": {
        "id": "Z5MkOahQdMor"
      },
      "source": [
        "import matplotlib.pyplot as plt \n",
        "import numpy as np\n",
        "from pylab import *\n",
        "from numpy import *"
      ],
      "execution_count": null,
      "outputs": []
    },
    {
      "cell_type": "code",
      "metadata": {
        "colab": {
          "base_uri": "https://localhost:8080/",
          "height": 103
        },
        "id": "VDfFVFZdZsqi",
        "outputId": "79e3c2b5-9e57-4720-d53d-63829c0f415e"
      },
      "source": [
        "import math\n",
        "c= float(input(\"input the value of c \"))\n",
        "''' here b =dc/dt'''\n",
        "b=float(input(\"input the value of dc/dt \"))\n",
        "'''here J= Δ'''\n",
        "j=float(input(\"input the value of Δ\"))\n",
        "def findRm(B,J,C):\n",
        "    \n",
        "    R1=((1-J)*(C-B/(2*C))+math.fabs((1-J)*(C-B/(2*C))))/(2*B/(2*C))\n",
        "    R2=((1-J)*(C-B/(2*C))-math.fabs((1-J)*(C-B/(2*C))))/(2*B/(2*C))\n",
        "    if R1>0:\n",
        "        return R1\n",
        "    else:\n",
        "        return R2\n",
        "\n",
        "    \n",
        "print(\"the value of Rm is\"+\" \"+str(findRm(b,j,c)))\n",
        "'''make dc/dt as x, and find Rm as y, keep changing the value of thresold to plot the graph '''"
      ],
      "execution_count": null,
      "outputs": [
        {
          "output_type": "stream",
          "name": "stdout",
          "text": [
            "input the value of c 1\n",
            "input the value of dc/dt 0.2\n",
            "input the value of Δ0.3\n",
            "the value of Rm is 6.3\n"
          ]
        },
        {
          "output_type": "execute_result",
          "data": {
            "application/vnd.google.colaboratory.intrinsic+json": {
              "type": "string"
            },
            "text/plain": [
              "'make dc/dt as x, and find Rm as y, keep changing the value of thresold to plot the graph '"
            ]
          },
          "metadata": {},
          "execution_count": 1
        }
      ]
    },
    {
      "cell_type": "code",
      "metadata": {
        "id": "BtPOdAtjaDh7",
        "colab": {
          "base_uri": "https://localhost:8080/"
        },
        "outputId": "51ca664e-2dba-4e7e-a9b6-4c3e7ef99996"
      },
      "source": [
        "n=3\n",
        "b=0.2\n",
        "while n>0:\n",
        "  b=b+0.2\n",
        "  print(\"this time the value of Δ is 0.3 and c is 1,we change the dc/dt)\n",
        "  print(\"the value of Rm is\"+\" \"+str(findRm(b,j,c))+\" when the value of dc/dt is\"+\" \"+str(b))\n",
        "  n=n-1\n"
      ],
      "execution_count": null,
      "outputs": [
        {
          "output_type": "stream",
          "name": "stdout",
          "text": [
            "the value of Rm is 2.7999999999999994 when the value of dc/dt is 0.4\n",
            "the value of Rm is 1.6333333333333329 when the value of dc/dt is 0.6000000000000001\n",
            "the value of Rm is 1.0499999999999998 when the value of dc/dt is 0.8\n"
          ]
        }
      ]
    },
    {
      "cell_type": "code",
      "metadata": {
        "colab": {
          "base_uri": "https://localhost:8080/"
        },
        "id": "yQHzvbuEegpY",
        "outputId": "4e087f2b-912e-43b7-b811-361d715a3487"
      },
      "source": [
        "n=4\n",
        "b=0\n",
        "j=0.4\n",
        "while n>0:\n",
        "  b=b+0.2\n",
        "  print(\"the value of Rm is\"+\" \"+str(findRm(b,j,c))+\" when the value of dc/dt is\"+\" \"+str(b))\n",
        "  n=n-1"
      ],
      "execution_count": null,
      "outputs": [
        {
          "output_type": "stream",
          "name": "stdout",
          "text": [
            "the value of Rm is 5.4 when the value of dc/dt is 0.2\n",
            "the value of Rm is 2.4 when the value of dc/dt is 0.4\n",
            "the value of Rm is 1.3999999999999997 when the value of dc/dt is 0.6000000000000001\n",
            "the value of Rm is 0.8999999999999999 when the value of dc/dt is 0.8\n"
          ]
        }
      ]
    },
    {
      "cell_type": "code",
      "metadata": {
        "colab": {
          "base_uri": "https://localhost:8080/"
        },
        "id": "8aFh6x9mfHu-",
        "outputId": "38a55743-2f89-4a5e-f49c-c9b3fc2a332b"
      },
      "source": [
        "n=4\n",
        "b=0\n",
        "j=0.5\n",
        "while n>0:\n",
        "  b=b+0.2\n",
        "  print(\"the value of Rm is\"+\" \"+str(findRm(b,j,c))+\" when the value of dc/dt is\"+\" \"+str(b))\n",
        "  n=n-1"
      ],
      "execution_count": null,
      "outputs": [
        {
          "output_type": "stream",
          "name": "stdout",
          "text": [
            "the value of Rm is 4.5 when the value of dc/dt is 0.2\n",
            "the value of Rm is 2.0 when the value of dc/dt is 0.4\n",
            "the value of Rm is 1.1666666666666665 when the value of dc/dt is 0.6000000000000001\n",
            "the value of Rm is 0.7499999999999999 when the value of dc/dt is 0.8\n"
          ]
        }
      ]
    },
    {
      "cell_type": "code",
      "metadata": {
        "colab": {
          "base_uri": "https://localhost:8080/"
        },
        "id": "aH45gmgJfOeM",
        "outputId": "ec6ff03b-b561-466f-dd5a-f291d200795e"
      },
      "source": [
        "n=4\n",
        "b=0\n",
        "j=0.6\n",
        "while n>0:\n",
        "  b=b+0.2\n",
        "  print(\"the value of Rm is\"+\" \"+str(findRm(b,j,c))+\" when the value of dc/dt is\"+\" \"+str(b))\n",
        "  n=n-1"
      ],
      "execution_count": null,
      "outputs": [
        {
          "output_type": "stream",
          "name": "stdout",
          "text": [
            "the value of Rm is 3.6 when the value of dc/dt is 0.2\n",
            "the value of Rm is 1.6000000000000003 when the value of dc/dt is 0.4\n",
            "the value of Rm is 0.9333333333333331 when the value of dc/dt is 0.6000000000000001\n",
            "the value of Rm is 0.6 when the value of dc/dt is 0.8\n"
          ]
        }
      ]
    },
    {
      "cell_type": "code",
      "metadata": {
        "colab": {
          "base_uri": "https://localhost:8080/",
          "height": 279
        },
        "id": "jdZGL-t9fW_e",
        "outputId": "19c26217-73c4-45af-e6ab-cb1d20e6adc9"
      },
      "source": [
        "x = [0.2,0.4,0.6,0.8]\n",
        "y = [6.3,2.7999999999999994,1.6333333333333329,1.0499999999999998]# Δ=0.3\n",
        "y1= [5.4,2.4,1.3999999999999997,0.8999999999999999]# Δ=0.4\n",
        "y2= [4.5,2.0,1.1666666666666665,0.7499999999999999]# Δ=0.5\n",
        "y3= [3.6,1.6,0.9333333333333331,0.6]# Δ=0.6\n",
        "plt.xlabel(\"dc/dt\")#x name\n",
        "plt.ylabel(\"Rm\")#y name \n",
        "plt.plot(x,y,color='green',label='Δ=0.3')\n",
        "plt.plot(x,y1,color='red',label='Δ=0.4')\n",
        "plt.plot(x,y2,color='blue',label='Δ=0.5')\n",
        "plt.plot(x,y3,color='orange',label='Δ=0.6')\n",
        "legend(loc=0,)\n",
        "plt.show()\n"
      ],
      "execution_count": null,
      "outputs": [
        {
          "output_type": "display_data",
          "data": {
            "image/png": "[encoded data removed]",
            "text/plain": [
              "<Figure size 432x288 with 1 Axes>"
            ]
          },
          "metadata": {
            "needs_background": "light"
          }
        }
      ]
    }
  ]
}