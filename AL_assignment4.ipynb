{
  "cells": [
    {
      "cell_type": "markdown",
      "id": "078d5e5e",
      "metadata": {
        "id": "078d5e5e"
      },
      "source": [
        "Name: Shuren He\n",
        "Course: CSC 44800 Artificial Intelligence\n",
        "Assignment 4: Judging Flowers"
      ]
    },
    {
      "cell_type": "markdown",
      "id": "4fd938ab",
      "metadata": {
        "id": "4fd938ab"
      },
      "source": [
        "# Part 1: Load the dataset"
      ]
    },
    {
      "cell_type": "markdown",
      "metadata": {
        "id": "dc03b6d7"
      },
      "source": [
        "[![Open In Colab](https://colab.research.google.com/assets/colab-badge.svg)](https://colab.research.google.com/github/SHUREN55/AI-assignment2/blob/main/AL_assignment4.ipynb)"
      ],
      "id": "dc03b6d7"
    },
    {
      "cell_type": "code",
      "execution_count": null,
      "id": "8c937e0b",
      "metadata": {
        "id": "8c937e0b"
      },
      "outputs": [],
      "source": [
        "#Imports and pip installations (if needed)\n",
        "import numpy as np\n",
        "\n",
        "import pandas as pd\n",
        "from sklearn.datasets import load_iris\n",
        "\n",
        "from sklearn.model_selection import train_test_split\n",
        "from sklearn.linear_model import LogisticRegression\n",
        "\n",
        "from sklearn.metrics import mean_squared_error, r2_score\n",
        "\n",
        "from sklearn import svm\n",
        "from sklearn.svm import SVC\n",
        "from sklearn import datasets\n",
        "\n",
        "from sklearn.neural_network import MLPClassifier"
      ]
    },
    {
      "cell_type": "code",
      "execution_count": null,
      "id": "028c3bc9",
      "metadata": {
        "id": "028c3bc9"
      },
      "outputs": [],
      "source": [
        "# Load the dataset (load remotely, not locally)\n",
        "iris = load_iris()\n",
        "iris_data_frame = pd.DataFrame(data= np.c_[iris['data'], iris['target']],\n",
        "                     columns= iris['feature_names'] + ['target'])"
      ]
    },
    {
      "cell_type": "code",
      "execution_count": null,
      "id": "925da8e9",
      "metadata": {
        "id": "925da8e9",
        "outputId": "310bddfa-f099-4c06-b62d-ce54ec9c9c25"
      },
      "outputs": [
        {
          "data": {
            "text/html": [
              "<div>\n",
              "<style scoped>\n",
              "    .dataframe tbody tr th:only-of-type {\n",
              "        vertical-align: middle;\n",
              "    }\n",
              "\n",
              "    .dataframe tbody tr th {\n",
              "        vertical-align: top;\n",
              "    }\n",
              "\n",
              "    .dataframe thead th {\n",
              "        text-align: right;\n",
              "    }\n",
              "</style>\n",
              "<table border=\"1\" class=\"dataframe\">\n",
              "  <thead>\n",
              "    <tr style=\"text-align: right;\">\n",
              "      <th></th>\n",
              "      <th>sepal length (cm)</th>\n",
              "      <th>sepal width (cm)</th>\n",
              "      <th>petal length (cm)</th>\n",
              "      <th>petal width (cm)</th>\n",
              "      <th>target</th>\n",
              "    </tr>\n",
              "  </thead>\n",
              "  <tbody>\n",
              "    <tr>\n",
              "      <th>0</th>\n",
              "      <td>5.1</td>\n",
              "      <td>3.5</td>\n",
              "      <td>1.4</td>\n",
              "      <td>0.2</td>\n",
              "      <td>0.0</td>\n",
              "    </tr>\n",
              "    <tr>\n",
              "      <th>1</th>\n",
              "      <td>4.9</td>\n",
              "      <td>3.0</td>\n",
              "      <td>1.4</td>\n",
              "      <td>0.2</td>\n",
              "      <td>0.0</td>\n",
              "    </tr>\n",
              "    <tr>\n",
              "      <th>2</th>\n",
              "      <td>4.7</td>\n",
              "      <td>3.2</td>\n",
              "      <td>1.3</td>\n",
              "      <td>0.2</td>\n",
              "      <td>0.0</td>\n",
              "    </tr>\n",
              "    <tr>\n",
              "      <th>3</th>\n",
              "      <td>4.6</td>\n",
              "      <td>3.1</td>\n",
              "      <td>1.5</td>\n",
              "      <td>0.2</td>\n",
              "      <td>0.0</td>\n",
              "    </tr>\n",
              "    <tr>\n",
              "      <th>4</th>\n",
              "      <td>5.0</td>\n",
              "      <td>3.6</td>\n",
              "      <td>1.4</td>\n",
              "      <td>0.2</td>\n",
              "      <td>0.0</td>\n",
              "    </tr>\n",
              "    <tr>\n",
              "      <th>5</th>\n",
              "      <td>5.4</td>\n",
              "      <td>3.9</td>\n",
              "      <td>1.7</td>\n",
              "      <td>0.4</td>\n",
              "      <td>0.0</td>\n",
              "    </tr>\n",
              "    <tr>\n",
              "      <th>6</th>\n",
              "      <td>4.6</td>\n",
              "      <td>3.4</td>\n",
              "      <td>1.4</td>\n",
              "      <td>0.3</td>\n",
              "      <td>0.0</td>\n",
              "    </tr>\n",
              "    <tr>\n",
              "      <th>7</th>\n",
              "      <td>5.0</td>\n",
              "      <td>3.4</td>\n",
              "      <td>1.5</td>\n",
              "      <td>0.2</td>\n",
              "      <td>0.0</td>\n",
              "    </tr>\n",
              "    <tr>\n",
              "      <th>8</th>\n",
              "      <td>4.4</td>\n",
              "      <td>2.9</td>\n",
              "      <td>1.4</td>\n",
              "      <td>0.2</td>\n",
              "      <td>0.0</td>\n",
              "    </tr>\n",
              "    <tr>\n",
              "      <th>9</th>\n",
              "      <td>4.9</td>\n",
              "      <td>3.1</td>\n",
              "      <td>1.5</td>\n",
              "      <td>0.1</td>\n",
              "      <td>0.0</td>\n",
              "    </tr>\n",
              "    <tr>\n",
              "      <th>10</th>\n",
              "      <td>5.4</td>\n",
              "      <td>3.7</td>\n",
              "      <td>1.5</td>\n",
              "      <td>0.2</td>\n",
              "      <td>0.0</td>\n",
              "    </tr>\n",
              "    <tr>\n",
              "      <th>11</th>\n",
              "      <td>4.8</td>\n",
              "      <td>3.4</td>\n",
              "      <td>1.6</td>\n",
              "      <td>0.2</td>\n",
              "      <td>0.0</td>\n",
              "    </tr>\n",
              "    <tr>\n",
              "      <th>12</th>\n",
              "      <td>4.8</td>\n",
              "      <td>3.0</td>\n",
              "      <td>1.4</td>\n",
              "      <td>0.1</td>\n",
              "      <td>0.0</td>\n",
              "    </tr>\n",
              "    <tr>\n",
              "      <th>13</th>\n",
              "      <td>4.3</td>\n",
              "      <td>3.0</td>\n",
              "      <td>1.1</td>\n",
              "      <td>0.1</td>\n",
              "      <td>0.0</td>\n",
              "    </tr>\n",
              "    <tr>\n",
              "      <th>14</th>\n",
              "      <td>5.8</td>\n",
              "      <td>4.0</td>\n",
              "      <td>1.2</td>\n",
              "      <td>0.2</td>\n",
              "      <td>0.0</td>\n",
              "    </tr>\n",
              "  </tbody>\n",
              "</table>\n",
              "</div>"
            ],
            "text/plain": [
              "    sepal length (cm)  sepal width (cm)  petal length (cm)  petal width (cm)  \\\n",
              "0                 5.1               3.5                1.4               0.2   \n",
              "1                 4.9               3.0                1.4               0.2   \n",
              "2                 4.7               3.2                1.3               0.2   \n",
              "3                 4.6               3.1                1.5               0.2   \n",
              "4                 5.0               3.6                1.4               0.2   \n",
              "5                 5.4               3.9                1.7               0.4   \n",
              "6                 4.6               3.4                1.4               0.3   \n",
              "7                 5.0               3.4                1.5               0.2   \n",
              "8                 4.4               2.9                1.4               0.2   \n",
              "9                 4.9               3.1                1.5               0.1   \n",
              "10                5.4               3.7                1.5               0.2   \n",
              "11                4.8               3.4                1.6               0.2   \n",
              "12                4.8               3.0                1.4               0.1   \n",
              "13                4.3               3.0                1.1               0.1   \n",
              "14                5.8               4.0                1.2               0.2   \n",
              "\n",
              "    target  \n",
              "0      0.0  \n",
              "1      0.0  \n",
              "2      0.0  \n",
              "3      0.0  \n",
              "4      0.0  \n",
              "5      0.0  \n",
              "6      0.0  \n",
              "7      0.0  \n",
              "8      0.0  \n",
              "9      0.0  \n",
              "10     0.0  \n",
              "11     0.0  \n",
              "12     0.0  \n",
              "13     0.0  \n",
              "14     0.0  "
            ]
          },
          "execution_count": 3,
          "metadata": {},
          "output_type": "execute_result"
        }
      ],
      "source": [
        "# Output the first 15 rows of the data:\n",
        "iris_data_frame.head(15)"
      ]
    },
    {
      "cell_type": "code",
      "execution_count": null,
      "id": "716b49b7",
      "metadata": {
        "id": "716b49b7",
        "outputId": "d59c93ad-acaa-491e-da87-7055865bdeba"
      },
      "outputs": [
        {
          "data": {
            "text/plain": [
              "sepal length (cm)    float64\n",
              "sepal width (cm)     float64\n",
              "petal length (cm)    float64\n",
              "petal width (cm)     float64\n",
              "target               float64\n",
              "dtype: object"
            ]
          },
          "execution_count": 4,
          "metadata": {},
          "output_type": "execute_result"
        }
      ],
      "source": [
        "iris_data_frame.dtypes"
      ]
    },
    {
      "cell_type": "code",
      "execution_count": null,
      "id": "9d84dd58",
      "metadata": {
        "scrolled": false,
        "id": "9d84dd58",
        "outputId": "67811412-fa78-403f-e4a1-7802f1125a0e"
      },
      "outputs": [
        {
          "data": {
            "text/html": [
              "<div>\n",
              "<style scoped>\n",
              "    .dataframe tbody tr th:only-of-type {\n",
              "        vertical-align: middle;\n",
              "    }\n",
              "\n",
              "    .dataframe tbody tr th {\n",
              "        vertical-align: top;\n",
              "    }\n",
              "\n",
              "    .dataframe thead th {\n",
              "        text-align: right;\n",
              "    }\n",
              "</style>\n",
              "<table border=\"1\" class=\"dataframe\">\n",
              "  <thead>\n",
              "    <tr style=\"text-align: right;\">\n",
              "      <th></th>\n",
              "      <th>sepal length (cm)</th>\n",
              "      <th>sepal width (cm)</th>\n",
              "      <th>petal length (cm)</th>\n",
              "      <th>petal width (cm)</th>\n",
              "      <th>target</th>\n",
              "    </tr>\n",
              "  </thead>\n",
              "  <tbody>\n",
              "    <tr>\n",
              "      <th>count</th>\n",
              "      <td>150.000000</td>\n",
              "      <td>150.000000</td>\n",
              "      <td>150.000000</td>\n",
              "      <td>150.000000</td>\n",
              "      <td>150.000000</td>\n",
              "    </tr>\n",
              "    <tr>\n",
              "      <th>mean</th>\n",
              "      <td>5.843333</td>\n",
              "      <td>3.057333</td>\n",
              "      <td>3.758000</td>\n",
              "      <td>1.199333</td>\n",
              "      <td>1.000000</td>\n",
              "    </tr>\n",
              "    <tr>\n",
              "      <th>std</th>\n",
              "      <td>0.828066</td>\n",
              "      <td>0.435866</td>\n",
              "      <td>1.765298</td>\n",
              "      <td>0.762238</td>\n",
              "      <td>0.819232</td>\n",
              "    </tr>\n",
              "    <tr>\n",
              "      <th>min</th>\n",
              "      <td>4.300000</td>\n",
              "      <td>2.000000</td>\n",
              "      <td>1.000000</td>\n",
              "      <td>0.100000</td>\n",
              "      <td>0.000000</td>\n",
              "    </tr>\n",
              "    <tr>\n",
              "      <th>25%</th>\n",
              "      <td>5.100000</td>\n",
              "      <td>2.800000</td>\n",
              "      <td>1.600000</td>\n",
              "      <td>0.300000</td>\n",
              "      <td>0.000000</td>\n",
              "    </tr>\n",
              "    <tr>\n",
              "      <th>50%</th>\n",
              "      <td>5.800000</td>\n",
              "      <td>3.000000</td>\n",
              "      <td>4.350000</td>\n",
              "      <td>1.300000</td>\n",
              "      <td>1.000000</td>\n",
              "    </tr>\n",
              "    <tr>\n",
              "      <th>75%</th>\n",
              "      <td>6.400000</td>\n",
              "      <td>3.300000</td>\n",
              "      <td>5.100000</td>\n",
              "      <td>1.800000</td>\n",
              "      <td>2.000000</td>\n",
              "    </tr>\n",
              "    <tr>\n",
              "      <th>max</th>\n",
              "      <td>7.900000</td>\n",
              "      <td>4.400000</td>\n",
              "      <td>6.900000</td>\n",
              "      <td>2.500000</td>\n",
              "      <td>2.000000</td>\n",
              "    </tr>\n",
              "  </tbody>\n",
              "</table>\n",
              "</div>"
            ],
            "text/plain": [
              "       sepal length (cm)  sepal width (cm)  petal length (cm)  \\\n",
              "count         150.000000        150.000000         150.000000   \n",
              "mean            5.843333          3.057333           3.758000   \n",
              "std             0.828066          0.435866           1.765298   \n",
              "min             4.300000          2.000000           1.000000   \n",
              "25%             5.100000          2.800000           1.600000   \n",
              "50%             5.800000          3.000000           4.350000   \n",
              "75%             6.400000          3.300000           5.100000   \n",
              "max             7.900000          4.400000           6.900000   \n",
              "\n",
              "       petal width (cm)      target  \n",
              "count        150.000000  150.000000  \n",
              "mean           1.199333    1.000000  \n",
              "std            0.762238    0.819232  \n",
              "min            0.100000    0.000000  \n",
              "25%            0.300000    0.000000  \n",
              "50%            1.300000    1.000000  \n",
              "75%            1.800000    2.000000  \n",
              "max            2.500000    2.000000  "
            ]
          },
          "execution_count": 5,
          "metadata": {},
          "output_type": "execute_result"
        }
      ],
      "source": [
        "iris_data_frame.describe()"
      ]
    },
    {
      "cell_type": "markdown",
      "id": "bd439420",
      "metadata": {
        "id": "bd439420"
      },
      "source": [
        "About the dataset"
      ]
    },
    {
      "cell_type": "markdown",
      "id": "6aea2d8b",
      "metadata": {
        "id": "6aea2d8b"
      },
      "source": [
        "As we expained previous, there are three species of iris.What are your features and labels? the feature X should be iris['data'] contains sepal length (cm), sepal width (cm), \n",
        "petal length (cm) and petal width (cm). The label y will be the target, the number indicates iris class."
      ]
    },
    {
      "cell_type": "markdown",
      "id": "35c8c779",
      "metadata": {
        "id": "35c8c779"
      },
      "source": [
        "# Part 2: Split the dataset into train and test"
      ]
    },
    {
      "cell_type": "code",
      "execution_count": null,
      "id": "c7a5980e",
      "metadata": {
        "id": "c7a5980e"
      },
      "outputs": [],
      "source": [
        "# Take the pandas dataset and split it into our features (X) and label (y)\n",
        "X = np.array(iris_data_frame.drop(['target'], 1))\n",
        "y = np.array(iris_data_frame['target'])"
      ]
    },
    {
      "cell_type": "code",
      "execution_count": null,
      "id": "65020842",
      "metadata": {
        "id": "65020842"
      },
      "outputs": [],
      "source": [
        "# Use sklearn to split the features and labels into a training/test set. (90% train, 10% test)\n",
        "# numpy.random. RandomState() This is a pseudorandom number generator.\n",
        "# we can also make random_state be a exactly number, so we can control the model we get.\n",
        "rng = np.random.RandomState(0)\n",
        "X_train, X_test, y_train, y_test = train_test_split(X, y, test_size=0.1, random_state=rng)"
      ]
    },
    {
      "cell_type": "markdown",
      "id": "b2fdab48",
      "metadata": {
        "id": "b2fdab48"
      },
      "source": [
        "# Part 3: Logistic Regression"
      ]
    },
    {
      "cell_type": "code",
      "execution_count": null,
      "id": "f61ee231",
      "metadata": {
        "id": "f61ee231",
        "outputId": "07d974f1-260f-49f2-9944-3c4d431b6d52"
      },
      "outputs": [
        {
          "data": {
            "text/plain": [
              "LogisticRegression()"
            ]
          },
          "execution_count": 10,
          "metadata": {},
          "output_type": "execute_result"
        }
      ],
      "source": [
        "# i. Use sklearn to train a LogisticRegression model on the training set\n",
        "LR_model = LogisticRegression()\n",
        "#Training the model\n",
        "LR_model.fit(X_train, y_train)"
      ]
    },
    {
      "cell_type": "code",
      "execution_count": null,
      "id": "b3bf0fb5",
      "metadata": {
        "id": "b3bf0fb5",
        "outputId": "37cbefb3-0d1f-4e1c-a18a-d7e1eb2b0ed9"
      },
      "outputs": [
        {
          "name": "stdout",
          "output_type": "stream",
          "text": [
            "For the iris sample: [[5.8 2.8 5.1 2.4]]\n",
            "class 0(Setosa): 8.233431065579563e-05 |class 1(Versicolour): 0.050494555412413863 |class 2(Virginica): 0.9494231102769304\n"
          ]
        }
      ],
      "source": [
        "# ii. For a sample datapoint, predict the probabilities for each possible class\n",
        "# We can test our model by the first point in test set\n",
        "# the first predict_proba() return estimates for all classes are ordered by the label of classes.\n",
        "# since we have three labal, our return will be a array have three numbers\n",
        "probabilities = LR_model.predict_proba(X_test[:1, :])\n",
        "print('For the iris sample:', X_test[:1, :])\n",
        "print('class 0(Setosa):',probabilities[0][0],'|class 1(Versicolour):',probabilities[0][1],'|class 2(Virginica):',probabilities[0][2])"
      ]
    },
    {
      "cell_type": "code",
      "execution_count": null,
      "id": "b7d5cd0f",
      "metadata": {
        "id": "b7d5cd0f",
        "outputId": "3eb42887-0508-40e1-9a8e-5ffe619b5dad"
      },
      "outputs": [
        {
          "name": "stdout",
          "output_type": "stream",
          "text": [
            "The score of our Logistic Regression Model is 1.0\n"
          ]
        }
      ],
      "source": [
        "# iii. Report on the score for Logistic regression model\n",
        "LR_confidence = LR_model.score(X_test, y_test)\n",
        "print('The score of our Logistic Regression Model is',LR_confidence)"
      ]
    },
    {
      "cell_type": "markdown",
      "id": "78caa9ba",
      "metadata": {
        "id": "78caa9ba"
      },
      "source": [
        "the score of our Logistic Regression Model is perfectly 1, which mean our model always correctly predict the right class \n",
        "of iris "
      ]
    },
    {
      "cell_type": "code",
      "execution_count": null,
      "id": "119a7e75",
      "metadata": {
        "id": "119a7e75",
        "outputId": "8a51c22f-1d3d-41a8-a7ce-454f3f5128f1"
      },
      "outputs": [
        {
          "name": "stdout",
          "output_type": "stream",
          "text": [
            "Coefficients: \n",
            " [[-0.41087752  0.92630564 -2.43464541 -1.04770048]\n",
            " [ 0.40315384 -0.32622858 -0.11363271 -0.88710626]\n",
            " [ 0.00772368 -0.60007705  2.54827812  1.93480674]]\n",
            "Intercepts: \n",
            " [  9.46338834   2.4453442  -11.90873254]\n"
          ]
        }
      ],
      "source": [
        "# iv. Extract the coefficents and intercepts for the boundary line(s)\n",
        "# The coefficients and intercepts:\n",
        "print('Coefficients: \\n', LR_model.coef_)\n",
        "print('Intercepts: \\n', LR_model.intercept_)"
      ]
    },
    {
      "cell_type": "markdown",
      "id": "9d5fb8a2",
      "metadata": {
        "id": "9d5fb8a2"
      },
      "source": [
        "There are three boundary line for each class. At above, the first list the cofficicent list is the cofficients of the first boundary line for class 0.\n",
        " Each conefficient relatives to one features, we have four features which perfectly match the coefficients. And the intercepts of the first boundary line is 9.4634.\n",
        "The other two boundary line follow the same format."
      ]
    },
    {
      "cell_type": "markdown",
      "id": "8bedc66c",
      "metadata": {
        "id": "8bedc66c"
      },
      "source": [
        "# Part 4: Support Vector Machine"
      ]
    },
    {
      "cell_type": "code",
      "execution_count": null,
      "id": "13a370bc",
      "metadata": {
        "id": "13a370bc",
        "outputId": "760e5843-2c6c-4506-f6d4-dd268005e5f7"
      },
      "outputs": [
        {
          "data": {
            "text/plain": [
              "SVC(kernel='linear', probability=True,\n",
              "    random_state=RandomState(MT19937) at 0x19C02240640)"
            ]
          },
          "execution_count": 15,
          "metadata": {},
          "output_type": "execute_result"
        }
      ],
      "source": [
        "# i. Use sklearn to train a Support Vector Classifier on the training set\n",
        "SVC_model = SVC(kernel = 'linear', random_state = rng, probability = True)\n",
        "SVC_model.fit(X_train, y_train)"
      ]
    },
    {
      "cell_type": "code",
      "execution_count": null,
      "id": "10bdaefd",
      "metadata": {
        "id": "10bdaefd",
        "outputId": "fbdc0856-8f98-4141-f74a-6076ba309fb3"
      },
      "outputs": [
        {
          "name": "stdout",
          "output_type": "stream",
          "text": [
            "For the iris sample: [[5.8 2.8 5.1 2.4]]\n",
            "class 0(Setosa): 0.009125973292447928 |class 1(Versicolour): 0.007037937656916896 |class 2(Virginica): 0.9838360890506351\n"
          ]
        }
      ],
      "source": [
        "# ii. For a sample datapoint, predict the probabilities for each possible class\n",
        "probabilities = SVC_model.predict_proba(X_test[:1, :])\n",
        "print('For the iris sample:', X_test[:1, :])\n",
        "print('class 0(Setosa):',probabilities[0][0],'|class 1(Versicolour):',probabilities[0][1],'|class 2(Virginica):',probabilities[0][2])"
      ]
    },
    {
      "cell_type": "code",
      "execution_count": null,
      "id": "1669b709",
      "metadata": {
        "id": "1669b709",
        "outputId": "59498ea6-b5c0-4cf1-a5fe-492d98a3bc9a"
      },
      "outputs": [
        {
          "name": "stdout",
          "output_type": "stream",
          "text": [
            "The score of our Support Vector Classifier is 1.0\n"
          ]
        }
      ],
      "source": [
        "# iii. Report on the score for the SVM, what does the score measure?\n",
        "SVC_confidence = SVC_model.score(X_test, y_test)\n",
        "print('The score of our Support Vector Classifier is',SVC_confidence)"
      ]
    },
    {
      "cell_type": "markdown",
      "id": "ab50b9bc",
      "metadata": {
        "id": "ab50b9bc"
      },
      "source": [
        "If we compare the second part, the probalities of each possible class of the same is very similarly to the last we got from Logistic regression model.\n",
        "The class 3 has the highest ratio."
      ]
    },
    {
      "cell_type": "markdown",
      "id": "a4086f97",
      "metadata": {
        "id": "a4086f97"
      },
      "source": [
        "# Part 5: Neural Network"
      ]
    },
    {
      "cell_type": "code",
      "execution_count": null,
      "id": "44ebea8f",
      "metadata": {
        "id": "44ebea8f",
        "outputId": "e491c621-d51b-40cb-912b-021d739d6a09"
      },
      "outputs": [
        {
          "data": {
            "text/plain": [
              "MLPClassifier(activation='logistic', alpha=0.1, hidden_layer_sizes=(5, 4),\n",
              "              max_iter=1000, random_state=RandomState(MT19937) at 0x19C02240640,\n",
              "              solver='lbfgs', tol=1e-06)"
            ]
          },
          "execution_count": 19,
          "metadata": {},
          "output_type": "execute_result"
        }
      ],
      "source": [
        "NN_model = MLPClassifier(solver='lbfgs',tol = 1e-6,hidden_layer_sizes=(5,4),activation=\"logistic\",alpha=1e-1,max_iter=1000,random_state=rng)\n",
        "NN_model.fit(X_train, y_train)"
      ]
    },
    {
      "cell_type": "code",
      "execution_count": null,
      "id": "2d4dab6b",
      "metadata": {
        "id": "2d4dab6b",
        "outputId": "934c448e-a622-4949-95eb-987daf16e31b"
      },
      "outputs": [
        {
          "name": "stdout",
          "output_type": "stream",
          "text": [
            "For the iris sample: [[5.8 2.8 5.1 2.4]]\n",
            "class 0(Setosa): 0.0014382310357031697 |class 1(Versicolour): 0.004548053252215499 |class 2(Virginica): 0.9940137157120813\n"
          ]
        }
      ],
      "source": [
        "# ii. For a sample datapoint, predict the probabilities for each possible class\n",
        "probabilities = NN_model.predict_proba(X_test[:1, :])\n",
        "print('For the iris sample:', X_test[:1, :])\n",
        "print('class 0(Setosa):',probabilities[0][0],'|class 1(Versicolour):',probabilities[0][1],'|class 2(Virginica):',probabilities[0][2])"
      ]
    },
    {
      "cell_type": "code",
      "execution_count": null,
      "id": "d5a8adf0",
      "metadata": {
        "id": "d5a8adf0",
        "outputId": "bee6e739-4e4c-4083-e08d-3073cebc4212"
      },
      "outputs": [
        {
          "name": "stdout",
          "output_type": "stream",
          "text": [
            "The score of our Neutral Network Model is 1.0\n"
          ]
        }
      ],
      "source": [
        "# iii. Report on the score for the Neural Network, what does the score measure?\n",
        "NN_confidence = NN_model.score(X_test, y_test)\n",
        "print('The score of our Neutral Network Model is',NN_confidence)"
      ]
    },
    {
      "cell_type": "markdown",
      "id": "c66fe4b0",
      "metadata": {
        "id": "c66fe4b0"
      },
      "source": [
        "# Part 6: K-Nearest Neighbors"
      ]
    },
    {
      "cell_type": "code",
      "execution_count": null,
      "id": "b5a1ae0b",
      "metadata": {
        "id": "b5a1ae0b",
        "outputId": "28e01f28-aa02-4dcc-e5c8-334a2c3bbf89"
      },
      "outputs": [
        {
          "name": "stdout",
          "output_type": "stream",
          "text": [
            "For the iris sample: [[6.1 2.6 5.6 1.4]]\n",
            "class 0(Setosa): 0.0 |class 1(Versicolour): 0.2 |class 2(Virginica): 0.8\n",
            "The score of our K-Nearest Model is 1.0\n"
          ]
        }
      ],
      "source": [
        "from sklearn.neighbors import KNeighborsClassifier\n",
        "\n",
        "# i. Use sklearn to 'train' a k-Neighbors Classifier\n",
        "# Note: KNN is a nonparametric model and technically doesn't require training\n",
        "# fit will essentially load the data into the model see link below for more information\n",
        "# https://stats.stackexchange.com/questions/349842/why-do-we-need-to-fit-a-k-nearest-neighbors-classifier\n",
        "knn = KNeighborsClassifier(n_neighbors=10)\n",
        "knn.fit(X_train, y_train)\n",
        "\n",
        "# ii. For a sample datapoint, predict the probabilities for each possible class\n",
        "\n",
        "probabilities = knn.predict_proba(X_test[10:11, :])\n",
        "print('For the iris sample:', X_test[10:11, :])\n",
        "print('class 0(Setosa):',probabilities[0][0],'|class 1(Versicolour):',probabilities[0][1],'|class 2(Virginica):',probabilities[0][2])\n",
        "\n",
        "# iii. Report on the score for kNN, what does the score measure?\n",
        "confidence = knn.score(X_test, y_test)\n",
        "print('The score of our K-Nearest Model is',confidence)"
      ]
    },
    {
      "cell_type": "markdown",
      "id": "38536d00",
      "metadata": {
        "id": "38536d00"
      },
      "source": [
        "The K-Nearest Neighbors models will define the class of the point by nearest n point. It is also a good idea to prediect new point give to \n",
        "us. "
      ]
    },
    {
      "cell_type": "markdown",
      "id": "2ed82dd4",
      "metadata": {
        "id": "2ed82dd4"
      },
      "source": [
        "# Part 7: Conclusions and takeaways"
      ]
    },
    {
      "cell_type": "markdown",
      "id": "cb5c6595",
      "metadata": {
        "id": "cb5c6595"
      },
      "source": [
        "Base on the previous work, the all scores of today's meachine model is 1, which means all models are accurated. The building of neutal network model, we gradually get closer to optimal answer. K-NN algorithm is simple to understand and equally easy to implement. If one class only get few input data, then the model will ultimately give a lot of preference to majority set. This might result in getting the less common class wrongly classified."
      ]
    }
  ],
  "metadata": {
    "kernelspec": {
      "display_name": "Python 3 (ipykernel)",
      "language": "python",
      "name": "python3"
    },
    "language_info": {
      "codemirror_mode": {
        "name": "ipython",
        "version": 3
      },
      "file_extension": ".py",
      "mimetype": "text/x-python",
      "name": "python",
      "nbconvert_exporter": "python",
      "pygments_lexer": "ipython3",
      "version": "3.9.7"
    },
    "colab": {
      "name": "AL_assignment4.ipynb",
      "provenance": []
    }
  },
  "nbformat": 4,
  "nbformat_minor": 5
}